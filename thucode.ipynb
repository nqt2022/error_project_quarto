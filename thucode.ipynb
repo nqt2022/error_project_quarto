{
  "cells": [
    {
      "cell_type": "code",
      "metadata": {},
      "source": [
        "#| code-fold: true\n",
        "#| code-summary: \"code Python\"\n",
        "from sympy import *\n",
        "a = 5\n",
        "print(a)"
      ],
      "id": "bd8fee88",
      "execution_count": null,
      "outputs": []
    }
  ],
  "metadata": {
    "kernelspec": {
      "name": "python3",
      "language": "python",
      "display_name": "Python 3 (ipykernel)"
    }
  },
  "nbformat": 4,
  "nbformat_minor": 5
}